{
  "nbformat": 4,
  "nbformat_minor": 0,
  "metadata": {
    "colab": {
      "provenance": [],
      "authorship_tag": "ABX9TyPUU8/y4Qct74RQQu/sQxbo",
      "include_colab_link": true
    },
    "kernelspec": {
      "name": "python3",
      "display_name": "Python 3"
    },
    "language_info": {
      "name": "python"
    }
  },
  "cells": [
    {
      "cell_type": "markdown",
      "metadata": {
        "id": "view-in-github",
        "colab_type": "text"
      },
      "source": [
        "<a href=\"https://colab.research.google.com/github/hideaki-kyutech/syseng2025/blob/main/queueing_enshu.ipynb\" target=\"_parent\"><img src=\"https://colab.research.google.com/assets/colab-badge.svg\" alt=\"Open In Colab\"/></a>"
      ]
    },
    {
      "cell_type": "markdown",
      "source": [
        "# システム工学: 第11回 待ち行列2\n"
      ],
      "metadata": {
        "id": "tIzuAgm_ztoq"
      }
    },
    {
      "cell_type": "markdown",
      "source": [
        "## 課題: 顧客満足度を保ちながら、窓口運営コストを最小化するには？\n",
        "### 背景\n",
        "あるサービス施設は、1つの窓口で対応しており、顧客は平均1分あたり0.9人($\\lambda=0.9$)の割合で到着する。この施設では、以下の2つの要件を同時に満たしたい。\n",
        "- 顧客の平均待ち時間$W_q$ を5分以内に抑える\n",
        "- 窓口の運営コストをなるべく下げたい（=高すぎるサービス率は避けたい）\n",
        "\n",
        "#### [課題1]\n",
        "$\\mu$(サービス率)を1.0〜1.5の範囲で変化させながら、\n",
        "- シミュレーションを実行し\n",
        "- 各$\\mu$における平均待ち時間$W_q$を記録せよ。\n",
        "- 理論値との比較も行い、シミュレーション精度を確認せよ。\n",
        "\n",
        "#### [課題2]\n",
        "- 要件「平均待ち時間が5分以内」を満たす最小のサービス率$\\mu$を見つけよ。\n",
        "\n",
        "#### [課題3]\n",
        "- $\\mu$を上げると窓口職員のコストが増えると仮定し、コスト関数\n",
        "$Cost(\\mu) = 1000+300(\\mu-1.0)^2$\n",
        "を導入する\n",
        "- 「待ち時間5分以下」と「コスト最小化」の両立を目指し、最適な$\\mu$を決定せよ。"
      ],
      "metadata": {
        "id": "ZdL4UUoMMhJ1"
      }
    },
    {
      "cell_type": "markdown",
      "source": [
        "## インストール"
      ],
      "metadata": {
        "id": "QaC4c5Rf_x8p"
      }
    },
    {
      "cell_type": "code",
      "source": [
        "!pip install japanize-matplotlib # グラフ中で日本語表記を可能にするライブラリのインストール"
      ],
      "metadata": {
        "colab": {
          "base_uri": "https://localhost:8080/"
        },
        "id": "C0V65LVTwolo",
        "outputId": "005e02e5-ab09-4467-87ae-03b11e322b7f"
      },
      "execution_count": null,
      "outputs": [
        {
          "output_type": "stream",
          "name": "stdout",
          "text": [
            "Collecting japanize-matplotlib\n",
            "  Downloading japanize-matplotlib-1.1.3.tar.gz (4.1 MB)\n",
            "\u001b[2K     \u001b[90m━━━━━━━━━━━━━━━━━━━━━━━━━━━━━━━━━━━━━━━━\u001b[0m \u001b[32m4.1/4.1 MB\u001b[0m \u001b[31m36.3 MB/s\u001b[0m eta \u001b[36m0:00:00\u001b[0m\n",
            "\u001b[?25h  Preparing metadata (setup.py) ... \u001b[?25l\u001b[?25hdone\n",
            "Requirement already satisfied: matplotlib in /usr/local/lib/python3.11/dist-packages (from japanize-matplotlib) (3.10.0)\n",
            "Requirement already satisfied: contourpy>=1.0.1 in /usr/local/lib/python3.11/dist-packages (from matplotlib->japanize-matplotlib) (1.3.2)\n",
            "Requirement already satisfied: cycler>=0.10 in /usr/local/lib/python3.11/dist-packages (from matplotlib->japanize-matplotlib) (0.12.1)\n",
            "Requirement already satisfied: fonttools>=4.22.0 in /usr/local/lib/python3.11/dist-packages (from matplotlib->japanize-matplotlib) (4.58.0)\n",
            "Requirement already satisfied: kiwisolver>=1.3.1 in /usr/local/lib/python3.11/dist-packages (from matplotlib->japanize-matplotlib) (1.4.8)\n",
            "Requirement already satisfied: numpy>=1.23 in /usr/local/lib/python3.11/dist-packages (from matplotlib->japanize-matplotlib) (2.0.2)\n",
            "Requirement already satisfied: packaging>=20.0 in /usr/local/lib/python3.11/dist-packages (from matplotlib->japanize-matplotlib) (24.2)\n",
            "Requirement already satisfied: pillow>=8 in /usr/local/lib/python3.11/dist-packages (from matplotlib->japanize-matplotlib) (11.2.1)\n",
            "Requirement already satisfied: pyparsing>=2.3.1 in /usr/local/lib/python3.11/dist-packages (from matplotlib->japanize-matplotlib) (3.2.3)\n",
            "Requirement already satisfied: python-dateutil>=2.7 in /usr/local/lib/python3.11/dist-packages (from matplotlib->japanize-matplotlib) (2.9.0.post0)\n",
            "Requirement already satisfied: six>=1.5 in /usr/local/lib/python3.11/dist-packages (from python-dateutil>=2.7->matplotlib->japanize-matplotlib) (1.17.0)\n",
            "Building wheels for collected packages: japanize-matplotlib\n",
            "  Building wheel for japanize-matplotlib (setup.py) ... \u001b[?25l\u001b[?25hdone\n",
            "  Created wheel for japanize-matplotlib: filename=japanize_matplotlib-1.1.3-py3-none-any.whl size=4120257 sha256=bd2e3fbcf1b196f982a14cd4088c1b5535cc45a392b7df48a10c6eb671d06a4e\n",
            "  Stored in directory: /root/.cache/pip/wheels/da/a1/71/b8faeb93276fed10edffcca20746f1ef6f8d9e071eee8425fc\n",
            "Successfully built japanize-matplotlib\n",
            "Installing collected packages: japanize-matplotlib\n",
            "Successfully installed japanize-matplotlib-1.1.3\n"
          ]
        }
      ]
    },
    {
      "cell_type": "markdown",
      "source": [
        "## インポート"
      ],
      "metadata": {
        "id": "O_r8zEvw_1Zw"
      }
    },
    {
      "cell_type": "code",
      "source": [
        "import numpy as np\n",
        "import matplotlib.pyplot as plt\n",
        "import japanize_matplotlib"
      ],
      "metadata": {
        "id": "b2JzU0JC2378"
      },
      "execution_count": null,
      "outputs": []
    },
    {
      "cell_type": "markdown",
      "source": [
        "## [1] ポアソン到着と指数サービスの生成\n",
        "「$1$分あたり$0.9$人（$0.9$人/分）で到着する」ことは、言い換えると「$1$人到着するのに$1/0.9$分（$1/0.9$ 分/人）時間がかかる」ことと同じである。$0.9$や$1/0.9$は平均値であり、実際の到着人数や到着間隔は確率的に変動する。この確率的な変動を再現するために、到着人数はポアソン分布、到着間隔は指数分布に従って生成する。\n"
      ],
      "metadata": {
        "id": "ARq6niO9Ltiz"
      }
    },
    {
      "cell_type": "markdown",
      "source": [
        "###[小問1] 到着率$\\lambda =0.9$のとき、到着間隔`arrival_interval`を指数分布に従う乱数として1つ生成してください。\n",
        "ヒント：指数分布に従う乱数を生成する関数`np.random.exponential(scale=` $\\beta$ `)` ($\\beta$は指数分布の平均値)を用いる。"
      ],
      "metadata": {
        "id": "YPVmQ3BR3cn1"
      }
    },
    {
      "cell_type": "code",
      "source": [],
      "metadata": {
        "id": "7UOy1HeZ_jt7"
      },
      "execution_count": null,
      "outputs": []
    },
    {
      "cell_type": "markdown",
      "source": [
        "### [小問2] $N=10$人の顧客の到着時刻列 `arrival_times` を生成してください。\n",
        "ヒント1: `np.random.exponential(scale=` $\\beta$ `, size=` $N$ `)`とすることで、$N$個の指数分布に従う乱数列をリストとして生成できる。\n",
        "\n",
        "ヒント2: `a=[1, 2, 3]`の時、`b=np.cumsum(a)`により、`b=[1, 3, 6]`となる"
      ],
      "metadata": {
        "id": "wJwJRGaJAGQy"
      }
    },
    {
      "cell_type": "code",
      "source": [],
      "metadata": {
        "id": "YYHrakz7AVOJ"
      },
      "execution_count": null,
      "outputs": []
    },
    {
      "cell_type": "markdown",
      "source": [
        "### [小問3] サービス率$\\mu=1.2$のとき、$N=10$人分のサービス時間列 `service_times` を生成してください。\n",
        "ヒント: サービス率とは単位時間あたりにサービスできる人数であり、この問題の文脈では単位は[人/分]となる。\n"
      ],
      "metadata": {
        "id": "595Xi-PoFTPs"
      }
    },
    {
      "cell_type": "code",
      "source": [],
      "metadata": {
        "id": "Agt-iCvPFcdE"
      },
      "execution_count": null,
      "outputs": []
    },
    {
      "cell_type": "markdown",
      "source": [
        "## [2] 開始時刻・終了時刻・待ち時間の計算"
      ],
      "metadata": {
        "id": "UqVaQIERqQVA"
      }
    },
    {
      "cell_type": "markdown",
      "source": [
        "### [小問4] 最初の顧客のサービス開始時刻`start_times[0]`は到着時刻`arrival_times[0]`と等しいとし、サービス終了時刻`end_times[0]`を計算してください。\n",
        "ヒント: `start_times`や`end_times`は要素数$N$のリストになると想定できるので、まず、`np.zeros(N)`で要素が全て$0$のリストを作成した後に、代入操作を行いましょう。"
      ],
      "metadata": {
        "id": "F3m55jRdG74B"
      }
    },
    {
      "cell_type": "code",
      "source": [],
      "metadata": {
        "id": "-2yBmMroIfi4"
      },
      "execution_count": null,
      "outputs": []
    },
    {
      "cell_type": "markdown",
      "source": [
        "### [小問5] 2人目以降について、以下のルールで`start_times[i]`と`end_times[i]`を計算してください。\n",
        "- 顧客`i`のサービス開始時刻は「到着時刻または前の終了時刻の遅い方」\n",
        "- 終了時刻は開始時刻+サービス時間\n",
        "\n",
        "ヒント: `for`文で計算しましょう。"
      ],
      "metadata": {
        "id": "gHKyZTh_G_Ec"
      }
    },
    {
      "cell_type": "code",
      "source": [],
      "metadata": {
        "id": "FSCOHA1XfA7Y"
      },
      "execution_count": null,
      "outputs": []
    },
    {
      "cell_type": "markdown",
      "source": [
        "### [小問6] 待ち時間列(各顧客の待ち時間のリスト) `wait_times` を計算してください。\n",
        "ヒント: 各顧客の待ち時間はサービス開始時刻と到着時刻の差"
      ],
      "metadata": {
        "id": "VEKVU9DJG_4a"
      }
    },
    {
      "cell_type": "code",
      "source": [],
      "metadata": {
        "id": "Ue4D2GHXf5DX"
      },
      "execution_count": null,
      "outputs": []
    },
    {
      "cell_type": "markdown",
      "source": [
        "## [3] 平均待ち時間と理論値の比較"
      ],
      "metadata": {
        "id": "dw-r2Z7jqdZO"
      }
    },
    {
      "cell_type": "markdown",
      "source": [
        "### [小問7] シミュレーションによる平均待ち時間 `simulated_Wq` を求めて出力してください。（少数第２位まで）\n",
        "ヒント: リスト `a=[1,2,3]` の平均は `np.mean(a)`で計算できます。"
      ],
      "metadata": {
        "id": "FSRUaleLHAub"
      }
    },
    {
      "cell_type": "code",
      "source": [],
      "metadata": {
        "id": "jqDnxDRFHjsH"
      },
      "execution_count": null,
      "outputs": []
    },
    {
      "cell_type": "markdown",
      "source": [
        "### [小問8] 理論的平均待ち時間 $W_q^t$ を求めて小数点第２位まで出力してください。（$\\lambda=0.9, \\mu=1.0$）\n",
        "ヒント: 利用率 $\\rho=\\frac{\\lambda}{\\mu}$とすると、$W_q^t=\\frac{\\rho}{\\mu*(1-\\rho)}$で算出できます。"
      ],
      "metadata": {
        "id": "kKL1EefoHChB"
      }
    },
    {
      "cell_type": "code",
      "source": [],
      "metadata": {
        "id": "k49blVYOg2Hi"
      },
      "execution_count": null,
      "outputs": []
    },
    {
      "cell_type": "markdown",
      "source": [
        "## [4] 可視化と設計問題"
      ],
      "metadata": {
        "id": "kXNDpzsfrAy9"
      }
    },
    {
      "cell_type": "markdown",
      "source": [
        "### [小問9] 待ち時間を折れ線グラフで表示してください。\n",
        "- ヒント1: `plt.plot(x)`でリストxの折れ線グラフを表示できます。\n",
        "- ヒント2: `plt.xlabel(\"Xlabel\")`で、横軸のラベルを「Xlabel」に設定できます。\n",
        "- ヒント3: `plt.ylabel(\"Ylabel\")`で、縦軸のラベルを「Ylabel」に設定できます。\n",
        "- ヒント4: `plt.title(\"Title\")`で、グラフの題名を「Title」に設定できます。\n",
        "- ヒント5: `plt.grid()`で、グラフ内に一定間隔のグリッド線を表示する設定にできます。\n",
        "- ヒント6: `plt.show()`で、グラフを画面に表示します。"
      ],
      "metadata": {
        "id": "d3kPIuprHDRf"
      }
    },
    {
      "cell_type": "code",
      "source": [],
      "metadata": {
        "id": "wJ-2YITOjtXu"
      },
      "execution_count": null,
      "outputs": []
    },
    {
      "cell_type": "markdown",
      "source": [
        "### [小問10] $\\mu$ を$1.0$〜$1.5$まで$0.05$刻みで変えたときの平均待ち時間`Wqs`をリストで記録してください。\n",
        "- ヒント1: 設定する$\\mu$のリストを`mu_values=np.arange(1.0, 1.51, 0.01)`で生成しましょう。\n",
        "- ヒント2: `for`文で`mu_values`の各要素を順番にピックアップしましょう。\n",
        "- ヒント3: 最初に`Wqs = []`で空リストを作成しておき、各$\\mu$での平均待ち時間$W_q(\\mu)$が計算できたら、`Wqs.append(` $W_q(\\mu)$ `)`でリストに追加します。"
      ],
      "metadata": {
        "id": "Ux49KaX9HEAn"
      }
    },
    {
      "cell_type": "code",
      "source": [],
      "metadata": {
        "id": "zHQmN60AkmOt"
      },
      "execution_count": null,
      "outputs": []
    },
    {
      "cell_type": "markdown",
      "source": [
        "### [小問11] $\\mu$毎の平均待ち時間`Wqs`をグラフで可視化してください。\n",
        "ヒント: 横軸を`mu_values`、縦軸を`Wqs`として、折れ線グラフを描くには`plt.plot(mu_values, Wqs, marker='o')`を設定します。"
      ],
      "metadata": {
        "id": "7hzlAFoPHE_o"
      }
    },
    {
      "cell_type": "code",
      "source": [],
      "metadata": {
        "id": "6mSgetctlOOD"
      },
      "execution_count": null,
      "outputs": []
    },
    {
      "cell_type": "markdown",
      "source": [
        "### [小問12] $W_q$が5分以下となる最小の$\\mu$を求めてください。"
      ],
      "metadata": {
        "id": "5c5ZNenA2u5s"
      }
    },
    {
      "cell_type": "code",
      "source": [],
      "metadata": {
        "colab": {
          "base_uri": "https://localhost:8080/"
        },
        "id": "8J5t3ulAw5X4",
        "outputId": "a018e48d-3123-492d-90f7-eef6824e5794"
      },
      "execution_count": null,
      "outputs": [
        {
          "output_type": "stream",
          "name": "stdout",
          "text": [
            "μ = 1.1 gives Wq = 4.54\n"
          ]
        }
      ]
    },
    {
      "cell_type": "markdown",
      "source": [
        "### [小問13] 「待ち時間5分以下」を満たす$\\mu$の中で最小コストとなる$\\mu$を求めてください。また、その時の平均待ち時間を求めてください。\n",
        "- $Cost(\\mu) = 1000+300(\\mu-1.0)^2$"
      ],
      "metadata": {
        "id": "R32-Bn0r3VSp"
      }
    },
    {
      "cell_type": "code",
      "source": [],
      "metadata": {
        "id": "7kQGat-Hw9Hv"
      },
      "execution_count": null,
      "outputs": []
    },
    {
      "cell_type": "code",
      "source": [],
      "metadata": {
        "id": "Dez6PI-g2iw_"
      },
      "execution_count": null,
      "outputs": []
    }
  ]
}