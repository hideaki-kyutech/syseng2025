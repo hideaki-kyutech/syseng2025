{
  "nbformat": 4,
  "nbformat_minor": 0,
  "metadata": {
    "colab": {
      "provenance": [],
      "mount_file_id": "1D70EtTyuokqCyeHRW5t4zA6-WDOGWFq2",
      "authorship_tag": "ABX9TyMxag/AFHGGNT/ydoWwJLbq",
      "include_colab_link": true
    },
    "kernelspec": {
      "name": "python3",
      "display_name": "Python 3"
    },
    "language_info": {
      "name": "python"
    }
  },
  "cells": [
    {
      "cell_type": "markdown",
      "metadata": {
        "id": "view-in-github",
        "colab_type": "text"
      },
      "source": [
        "<a href=\"https://colab.research.google.com/github/hideaki-kyutech/syseng2025/blob/main/ex_pyomo_minlp.ipynb\" target=\"_parent\"><img src=\"https://colab.research.google.com/assets/colab-badge.svg\" alt=\"Open In Colab\"/></a>"
      ]
    },
    {
      "cell_type": "markdown",
      "source": [
        "# MINLPの実行例\n",
        "- Objective Function:\n",
        "  - $max(x+y)$\n",
        "- Constraints:\n",
        "  - $-x+2xy\\leq 7$\n",
        "  - $2x+y\\leq 14$\n",
        "  - $2x-y\\leq 10$\n",
        "  - $0\\leq x\\leq 10$\n",
        "  - $0\\leq y\\leq 10$\n",
        "  - $x$ as integer"
      ],
      "metadata": {
        "id": "lp3j8ib-ahZJ"
      }
    },
    {
      "cell_type": "markdown",
      "source": [
        "## pyomoフレームワークのインストール\n",
        "- Colabにはすでにインストール済みのため不要"
      ],
      "metadata": {
        "id": "Mg6eRXcDaXRA"
      }
    },
    {
      "cell_type": "code",
      "source": [
        "!pip install -q pyomo"
      ],
      "metadata": {
        "id": "bB_j4ZhJSgXI"
      },
      "execution_count": 2,
      "outputs": []
    },
    {
      "cell_type": "code",
      "source": [
        "!apt-get install -y -qq glpk-utils"
      ],
      "metadata": {
        "id": "QkfDNFg0elZt"
      },
      "execution_count": 14,
      "outputs": []
    },
    {
      "cell_type": "code",
      "source": [
        "!pip install -q amplpy"
      ],
      "metadata": {
        "colab": {
          "base_uri": "https://localhost:8080/"
        },
        "id": "MPy_hsLViXNS",
        "outputId": "5c0a2a53-fccf-4606-87d7-3fdcb4d7f4e7"
      },
      "execution_count": 17,
      "outputs": [
        {
          "output_type": "stream",
          "name": "stdout",
          "text": [
            "\u001b[2K   \u001b[90m━━━━━━━━━━━━━━━━━━━━━━━━━━━━━━━━━━━━━━━━\u001b[0m \u001b[32m5.7/5.7 MB\u001b[0m \u001b[31m35.4 MB/s\u001b[0m eta \u001b[36m0:00:00\u001b[0m\n",
            "\u001b[?25h"
          ]
        }
      ]
    },
    {
      "cell_type": "code",
      "source": [
        "!wget -N -q \"https://github.com/thomasfork/ipopt_linux/raw/main/ipopt-linux64.zip\"\n",
        "!unzip -o -q ipopt-linux64"
      ],
      "metadata": {
        "id": "R3OVJMudpLtT"
      },
      "execution_count": 3,
      "outputs": []
    },
    {
      "cell_type": "markdown",
      "source": [
        "## pyomoのインポート"
      ],
      "metadata": {
        "id": "SGIKBLPIb-Zq"
      }
    },
    {
      "cell_type": "code",
      "execution_count": 4,
      "metadata": {
        "id": "7FggMZhESWuz"
      },
      "outputs": [],
      "source": [
        "import pyomo.environ as pyo\n",
        "from pyomo.environ import *\n",
        "from pyomo.opt import SolverFactory"
      ]
    },
    {
      "cell_type": "code",
      "source": [
        "from amplpy import modules\n",
        "!python -m amplpy.modules install coin highs scip gcg -q  # Install HiGHS, CBC, Couenne, Bonmin, Ipopt, SCIP, and GCG"
      ],
      "metadata": {
        "id": "0l14erjfjpM6"
      },
      "execution_count": 44,
      "outputs": []
    },
    {
      "cell_type": "markdown",
      "source": [
        "## solverの設定"
      ],
      "metadata": {
        "id": "3NnswEzhcIKe"
      }
    },
    {
      "cell_type": "code",
      "source": [
        "model = pyo.ConcreteModel()"
      ],
      "metadata": {
        "id": "gtbiJeqFSdFK"
      },
      "execution_count": 45,
      "outputs": []
    },
    {
      "cell_type": "markdown",
      "source": [
        "## 変数の設定"
      ],
      "metadata": {
        "id": "a6ZLNTi1cNo-"
      }
    },
    {
      "cell_type": "code",
      "source": [
        "model.x = pyo.Var(bounds=(0,10), within=Integers)\n",
        "model.y = pyo.Var(bounds=(0,10))\n",
        "x = model.x\n",
        "y = model.y"
      ],
      "metadata": {
        "id": "GiPbmVekSsSe"
      },
      "execution_count": 46,
      "outputs": []
    },
    {
      "cell_type": "markdown",
      "source": [
        "## 制約式の設定"
      ],
      "metadata": {
        "id": "SbZ57dHwcU8O"
      }
    },
    {
      "cell_type": "code",
      "source": [
        "model.C1 = pyo.Constraint(expr= -x+2*x*y<=7)\n",
        "model.C2 = pyo.Constraint(expr= 2*x+y<=14)\n",
        "model.C3 = pyo.Constraint(expr= 2*x-y<=10)"
      ],
      "metadata": {
        "id": "koXFacSsSuCv"
      },
      "execution_count": 47,
      "outputs": []
    },
    {
      "cell_type": "markdown",
      "source": [
        "## 目的関数の設定"
      ],
      "metadata": {
        "id": "BKwAJOUjcZKx"
      }
    },
    {
      "cell_type": "code",
      "source": [
        "model.obj = pyo.Objective(expr= x+y, sense=maximize)"
      ],
      "metadata": {
        "id": "YTu7BEwRSv0v"
      },
      "execution_count": 48,
      "outputs": []
    },
    {
      "cell_type": "markdown",
      "source": [
        "## 解を求める"
      ],
      "metadata": {
        "id": "5BBVIKtrcckz"
      }
    },
    {
      "cell_type": "code",
      "source": [
        "solver_name = \"couenne\"  # \"highs\", \"cbc\",  \"couenne\", \"bonmin\", \"ipopt\", \"scip\", or \"gcg\"."
      ],
      "metadata": {
        "id": "7CTqHbECksup"
      },
      "execution_count": 49,
      "outputs": []
    },
    {
      "cell_type": "code",
      "source": [
        "opt = SolverFactory(solver_name+\"nl\", executable=modules.find(solver_name), solve_io=\"nl\")\n",
        "opt.solve(model)"
      ],
      "metadata": {
        "id": "nEKKcSD5S5Lh",
        "colab": {
          "base_uri": "https://localhost:8080/"
        },
        "outputId": "48797671-6137-4fb4-ea2f-ec61a2e18481"
      },
      "execution_count": 50,
      "outputs": [
        {
          "output_type": "execute_result",
          "data": {
            "text/plain": [
              "{'Problem': [{'Lower bound': -inf, 'Upper bound': inf, 'Number of objectives': 1, 'Number of constraints': 0, 'Number of variables': 2, 'Sense': 'unknown'}], 'Solver': [{'Status': 'ok', 'Message': 'couenne\\\\x3a Optimal', 'Termination condition': 'optimal', 'Id': 3, 'Error rc': 0, 'Time': 0.04151773452758789}], 'Solution': [OrderedDict([('number of solutions', 0), ('number of solutions displayed', 0)])]}"
            ]
          },
          "metadata": {},
          "execution_count": 50
        }
      ]
    },
    {
      "cell_type": "markdown",
      "source": [
        "## 問題設定のサマリー"
      ],
      "metadata": {
        "id": "0FTVvQBFryFd"
      }
    },
    {
      "cell_type": "code",
      "source": [
        "model.pprint()"
      ],
      "metadata": {
        "colab": {
          "base_uri": "https://localhost:8080/"
        },
        "id": "m8UgzZFLruTT",
        "outputId": "02fd324b-38c7-4459-82a4-0795e887171a"
      },
      "execution_count": 51,
      "outputs": [
        {
          "output_type": "stream",
          "name": "stdout",
          "text": [
            "2 Var Declarations\n",
            "    x : Size=1, Index=None\n",
            "        Key  : Lower : Value : Upper : Fixed : Stale : Domain\n",
            "        None :     0 :   0.0 :    10 : False : False : Integers\n",
            "    y : Size=1, Index=None\n",
            "        Key  : Lower : Value : Upper : Fixed : Stale : Domain\n",
            "        None :     0 :  10.0 :    10 : False : False :  Reals\n",
            "\n",
            "1 Objective Declarations\n",
            "    obj : Size=1, Index=None, Active=True\n",
            "        Key  : Active : Sense    : Expression\n",
            "        None :   True : maximize : x + y\n",
            "\n",
            "3 Constraint Declarations\n",
            "    C1 : Size=1, Index=None, Active=True\n",
            "        Key  : Lower : Body        : Upper : Active\n",
            "        None :  -Inf : - x + 2*x*y :   7.0 :   True\n",
            "    C2 : Size=1, Index=None, Active=True\n",
            "        Key  : Lower : Body    : Upper : Active\n",
            "        None :  -Inf : 2*x + y :  14.0 :   True\n",
            "    C3 : Size=1, Index=None, Active=True\n",
            "        Key  : Lower : Body    : Upper : Active\n",
            "        None :  -Inf : 2*x - y :  10.0 :   True\n",
            "\n",
            "6 Declarations: x y C1 C2 C3 obj\n"
          ]
        }
      ]
    },
    {
      "cell_type": "markdown",
      "source": [
        "## 結果の表示"
      ],
      "metadata": {
        "id": "VIhJYK9TclsJ"
      }
    },
    {
      "cell_type": "code",
      "source": [
        "x_value = pyo.value(x)\n",
        "y_value = pyo.value(y)\n",
        "print('x=',x_value)\n",
        "print('y=',y_value)"
      ],
      "metadata": {
        "id": "E0IJyruDSx0a",
        "colab": {
          "base_uri": "https://localhost:8080/"
        },
        "outputId": "c8d95be0-a862-4bf0-8c42-b479f9da5e0a"
      },
      "execution_count": 52,
      "outputs": [
        {
          "output_type": "stream",
          "name": "stdout",
          "text": [
            "x= 0.0\n",
            "y= 10.0\n"
          ]
        }
      ]
    },
    {
      "cell_type": "code",
      "source": [],
      "metadata": {
        "id": "W_Mn-UONS0-C"
      },
      "execution_count": null,
      "outputs": []
    }
  ]
}